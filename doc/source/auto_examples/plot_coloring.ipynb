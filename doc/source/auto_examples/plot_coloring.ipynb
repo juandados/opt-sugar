{
 "cells": [
  {
   "cell_type": "code",
   "execution_count": 4,
   "metadata": {},
   "outputs": [],
   "source": [
    "%matplotlib inline"
   ]
  },
  {
   "cell_type": "markdown",
   "metadata": {},
   "source": [
    "\n",
    "# Experiment Tracking: Coloring\n",
    "\n",
    "This example demostrates how to use opt-sugar in combination with mlflow\n",
    "for single objective optimization experiment tracking\n",
    "\n",
    "<img src=\"https://mybinder.org/badge_logo.svg\" target=\"https://mybinder.org/v2/gh/juandados/opt-sugar/main?labpath=doc%2Fsource%2Fauto_examples%2Fplot_coloring.ipynb\">\n"
   ]
  },
  {
   "cell_type": "code",
   "execution_count": 7,
   "metadata": {},
   "outputs": [],
   "source": [
    "import datetime\n",
    "from urllib.parse import urlparse\n",
    "from itertools import product\n",
    "from collections import defaultdict\n",
    "from random import random\n",
    "import logging\n",
    "\n",
    "import gurobipy as gp\n",
    "import mlflow\n",
    "from mlflow.exceptions import MlflowException\n",
    "\n",
    "from opt_sugar import OptModel, ModelBuilder\n",
    "from opt_sugar.objective import Objective, ObjectivePart, BaseObjective\n",
    "import opt_sugar.opt_flow as opt_flow\n",
    "\n",
    "from pyvis.network import Network\n",
    "import matplotlib.pyplot as plt\n",
    "from matplotlib.colors import rgb2hex\n",
    "from numpy import linspace\n",
    "\n",
    "# When running locally\n",
    "#import sys\n",
    "#sys.path.append('~/opt/opt-sugar')\n",
    "#from src.opt_sugar import OptModel, ModelBuilder\n",
    "#from src.opt_sugar.objective import Objective, ObjectivePart, BaseObjective\n",
    "#import src.opt_sugar.opt_flow as opt_flow\n",
    "\n",
    "# TODO: reformat this example similar to\n",
    "#  https://github.com/scikit-learn/scikit-learn/blob/main/examples/calibration/plot_calibration_multiclass.py"
   ]
  },
  {
   "cell_type": "markdown",
   "metadata": {},
   "source": [
    "## A Colored Graph Helper Function\n",
    "\n",
    "The following function is really handy to visualize our colored graphs.\n",
    "\n"
   ]
  },
  {
   "cell_type": "code",
   "execution_count": 8,
   "metadata": {},
   "outputs": [],
   "source": [
    "def build_graph(solution):\n",
    "    cmap = plt.get_cmap(\"gist_rainbow\")\n",
    "    color_count = int(solution[\"max_color\"] + 1)\n",
    "    color_map = {node: color_label for node, color_label in product(nodes, range(color_count)) if\n",
    "                 solution[f'color[{node},{color_label}]'] == 1}\n",
    "    rgb_colors = {c: cmap(x) for c, x in enumerate(linspace(0, 1 - 1 / color_count, color_count))}\n",
    "    g = Network(notebook=True)\n",
    "    g.add_nodes(nodes=list(color_map.keys()),\n",
    "                color=[rgb2hex(rgb_colors[color_label]) for color_label in color_map.values()])\n",
    "    g.add_edges(edges)\n",
    "    g.set_options(\"\"\"{\"edges\": {\"color\": {\"inherit\": false}}, \"physics\":{\"maxVelocity\": 15}}\"\"\")\n",
    "    return g"
   ]
  },
  {
   "cell_type": "markdown",
   "metadata": {},
   "source": [
    "## The Optimizations Model Builder\n",
    "\n",
    "The following class is the builder for the coloring problem.\n",
    "\n"
   ]
  },
  {
   "cell_type": "code",
   "execution_count": 9,
   "metadata": {},
   "outputs": [],
   "source": [
    "class ColoringModelBuilder(ModelBuilder):\n",
    "    \"\"\"This should be user implemented\"\"\"\n",
    "\n",
    "    def build_variables(self, base_model):\n",
    "        degrees = defaultdict(int)\n",
    "        for v1, v2 in self.data[\"edges\"]:\n",
    "            degrees[v1] += 1\n",
    "            degrees[v2] += 1\n",
    "        self.degree = max(degrees.items(), key=lambda x: x[1])[1]\n",
    "        color_keys = list(product(self.data[\"nodes\"], range(self.degree)))\n",
    "        color = base_model.addVars(color_keys, vtype=\"B\", name=\"color\")\n",
    "        max_color = base_model.addVar(lb=0, ub=self.degree, vtype=\"C\", name=\"max_color\")\n",
    "        self.variables = {\"color\": color, \"max_color\": max_color}\n",
    "\n",
    "    def build_constraints(self, base_model):\n",
    "        color = self.variables[\"color\"]\n",
    "        for v1, c in color:\n",
    "            # if color[v1, c] == 1 -> color[v2, c] == 0 for all v2 such that (v1, v2) or\n",
    "            # belongs to E\n",
    "            for v2 in self.data[\"nodes\"]:\n",
    "                if (v2, v1) in self.data[\"edges\"] or (v1, v2) in self.data[\"edges\"]:\n",
    "                    base_model.addConstr(\n",
    "                        color[v2, c] <= 1 - color[v1, c], name=f\"color_{c}_{v1}_{v2}\"\n",
    "                    )\n",
    "\n",
    "        for v in self.data[\"nodes\"]:\n",
    "            base_model.addConstr(\n",
    "                gp.quicksum(color[v, c] for c in range(self.degree)) == 1,\n",
    "                name=f\"every_node_has_color_{v}\",\n",
    "            )\n",
    "\n",
    "        max_color = self.variables[\"max_color\"]\n",
    "        for v, c in color:\n",
    "            base_model.addConstr(\n",
    "                c * color[v, c] <= max_color, name=f\"max_color_{v}_{c}\"\n",
    "            )\n",
    "\n",
    "    def build_objective(self, base_model):\n",
    "        max_color = self.variables[\"max_color\"]\n",
    "        objective_parts = [ObjectivePart(weight=1, expr=max_color)]\n",
    "        objective = Objective([BaseObjective(objective_parts, hierarchy=1)])\n",
    "        base_model.setObjective(objective.build()[0], gp.GRB.MINIMIZE)\n",
    "        return objective\n",
    "\n",
    "\n",
    "def fit_callback(model):\n",
    "    fit_callback_data = {\n",
    "        \"mip_gap\": model.mip_gap,\n",
    "        \"objective_value\": model.getObjective().getValue(),\n",
    "    }\n",
    "    return fit_callback_data"
   ]
  },
  {
   "cell_type": "markdown",
   "metadata": {},
   "source": [
    "## Generate random data\n",
    "\n",
    "Add description here.\n",
    "\n"
   ]
  },
  {
   "cell_type": "code",
   "execution_count": 10,
   "metadata": {},
   "outputs": [],
   "source": [
    "node_count = 5\n",
    "edge_probability = 0.5\n",
    "\n",
    "nodes = set(range(node_count))\n",
    "edges = set(\n",
    "    (v1, v2)\n",
    "    for v1, v2 in product(nodes, nodes)\n",
    "    if random() <= edge_probability and v1 > v2\n",
    ")\n",
    "edges.update([(1, 0)])  # Forcing the edge 1, 0 to avoid empty edges\n",
    "data = {\"nodes\": nodes, \"edges\": edges}"
   ]
  },
  {
   "cell_type": "markdown",
   "metadata": {},
   "source": [
    "## Tracking an Optimization Experiment\n",
    "\n",
    "Add description here.\n",
    "\n"
   ]
  },
  {
   "cell_type": "code",
   "execution_count": 11,
   "metadata": {},
   "outputs": [
    {
     "name": "stdout",
     "output_type": "stream",
     "text": [
      "Restricted license - for non-production use only - expires 2023-10-25\n",
      "Gurobi Optimizer version 9.5.2 build v9.5.2rc0 (mac64[x86])\n",
      "Thread count: 6 physical cores, 12 logical processors, using up to 12 threads\n",
      "Optimize a model with 97 rows, 21 columns and 199 nonzeros\n",
      "Model fingerprint: 0x8feb3d4f\n",
      "Variable types: 1 continuous, 20 integer (20 binary)\n",
      "Coefficient statistics:\n",
      "  Matrix range     [1e+00, 3e+00]\n",
      "  Objective range  [1e+00, 1e+00]\n",
      "  Bounds range     [1e+00, 4e+00]\n",
      "  RHS range        [1e+00, 1e+00]\n",
      "Found heuristic solution: objective 3.0000000\n",
      "Presolve removed 81 rows and 0 columns\n",
      "Presolve time: 0.00s\n",
      "Presolved: 16 rows, 21 columns, 67 nonzeros\n",
      "Variable types: 0 continuous, 21 integer (20 binary)\n",
      "\n",
      "Root relaxation: infeasible, 14 iterations, 0.00 seconds (0.00 work units)\n",
      "\n",
      "    Nodes    |    Current Node    |     Objective Bounds      |     Work\n",
      " Expl Unexpl |  Obj  Depth IntInf | Incumbent    BestBd   Gap | It/Node Time\n",
      "\n",
      "     0     0 infeasible    0         3.00000    3.00000  0.00%     -    0s\n",
      "\n",
      "Explored 1 nodes (14 simplex iterations) in 0.01 seconds (0.00 work units)\n",
      "Thread count was 12 (of 12 available processors)\n",
      "\n",
      "Solution count 1: 3 \n",
      "\n",
      "Optimal solution found (tolerance 1.00e-04)\n",
      "Best objective 3.000000000000e+00, best bound 3.000000000000e+00, gap 0.0000%\n",
      "tracking_url_type_store: file\n"
     ]
    }
   ],
   "source": [
    "logging.getLogger(\"mlflow\").setLevel(logging.CRITICAL)  # Can be set DEBUG\n",
    "\n",
    "try:\n",
    "    experiment_name = f\"opt_exp_{datetime.datetime.now().strftime('%Y_%m_%d')}\"\n",
    "    experiment_id = mlflow.create_experiment(name=experiment_name)\n",
    "except MlflowException:\n",
    "    experiment_id = mlflow.get_experiment_by_name(name=experiment_name).experiment_id\n",
    "\n",
    "with mlflow.start_run(experiment_id=experiment_id):\n",
    "    opt_model = OptModel(model_builder=ColoringModelBuilder)\n",
    "    solution = opt_model.optimize(data, fit_callback)\n",
    "\n",
    "    # Note: Above is replacement for opt_model.fit(data, fit_callback) and opt_model.predict(data)\n",
    "    mlflow.log_param(\"objective_parts\", opt_model.objective)\n",
    "    mlflow.log_metric(\"gap\", opt_model.fit_callback_data[\"mip_gap\"])\n",
    "    mlflow.log_metric(\"kpi\", opt_model.fit_callback_data[\"objective_value\"])\n",
    "\n",
    "    tracking_url_type_store = urlparse(mlflow.get_tracking_uri()).scheme\n",
    "    print(f\"tracking_url_type_store: {tracking_url_type_store}\")\n",
    "\n",
    "    # Register the model\n",
    "    if tracking_url_type_store != \"file\":\n",
    "        # There are other ways to use the Model Registry, which depends on the use case,\n",
    "        # please refer to the doc for more information:\n",
    "        # https://mlflow.org/docs/latest/model-registry.html#api-workflow\n",
    "        model_info = mlflow.sklearn.log_model(\n",
    "            opt_model, \"opt_model\", registered_model_name=\"OptModel\"\n",
    "        )\n",
    "    else:\n",
    "        model_info = mlflow.sklearn.log_model(opt_model, \"opt_model\")"
   ]
  },
  {
   "cell_type": "markdown",
   "metadata": {},
   "source": [
    "## Load the Registered Model and Optimize with new Data\n",
    "\n",
    "Add description here.\n",
    "\n"
   ]
  },
  {
   "cell_type": "code",
   "execution_count": 12,
   "metadata": {},
   "outputs": [
    {
     "name": "stdout",
     "output_type": "stream",
     "text": [
      "logged_model_uri: runs:/748f40e992604617aa3906c23111f1df/opt_model\n",
      "Gurobi Optimizer version 9.5.2 build v9.5.2rc0 (mac64[x86])\n",
      "Thread count: 6 physical cores, 12 logical processors, using up to 12 threads\n",
      "Optimize a model with 86 rows, 25 columns and 178 nonzeros\n",
      "Model fingerprint: 0x0c2aa498\n",
      "Variable types: 1 continuous, 24 integer (24 binary)\n",
      "Coefficient statistics:\n",
      "  Matrix range     [1e+00, 3e+00]\n",
      "  Objective range  [1e+00, 1e+00]\n",
      "  Bounds range     [1e+00, 4e+00]\n",
      "  RHS range        [1e+00, 1e+00]\n",
      "Found heuristic solution: objective 3.0000000\n",
      "Presolve removed 55 rows and 0 columns\n",
      "Presolve time: 0.00s\n",
      "Presolved: 31 rows, 25 columns, 89 nonzeros\n",
      "Variable types: 0 continuous, 25 integer (24 binary)\n",
      "\n",
      "Root relaxation: objective 2.000000e+00, 14 iterations, 0.00 seconds (0.00 work units)\n",
      "\n",
      "    Nodes    |    Current Node    |     Objective Bounds      |     Work\n",
      " Expl Unexpl |  Obj  Depth IntInf | Incumbent    BestBd   Gap | It/Node Time\n",
      "\n",
      "*    0     0               0       2.0000000    2.00000  0.00%     -    0s\n",
      "\n",
      "Explored 1 nodes (14 simplex iterations) in 0.01 seconds (0.00 work units)\n",
      "Thread count was 12 (of 12 available processors)\n",
      "\n",
      "Solution count 2: 2 3 \n",
      "\n",
      "Optimal solution found (tolerance 1.00e-04)\n",
      "Best objective 2.000000000000e+00, best bound 2.000000000000e+00, gap 0.0000%\n",
      "Optimized Coloring: {'color[0,0]': -0.0, 'color[0,1]': 1.0, 'color[0,2]': 0.0, 'color[0,3]': -0.0, 'color[1,0]': 1.0, 'color[1,1]': -0.0, 'color[1,2]': 0.0, 'color[1,3]': -0.0, 'color[2,0]': 0.0, 'color[2,1]': -0.0, 'color[2,2]': 1.0, 'color[2,3]': -0.0, 'color[3,0]': 1.0, 'color[3,1]': -0.0, 'color[3,2]': 0.0, 'color[3,3]': -0.0, 'color[4,0]': 1.0, 'color[4,1]': -0.0, 'color[4,2]': -0.0, 'color[4,3]': -0.0, 'color[5,0]': 0.0, 'color[5,1]': 1.0, 'color[5,2]': -0.0, 'color[5,3]': -0.0, 'max_color': 2.0}\n",
      "Local cdn resources have problems on chrome/safari when used in jupyter-notebook. \n"
     ]
    },
    {
     "data": {
      "text/html": [
       "\n",
       "        <iframe\n",
       "            width=\"100%\"\n",
       "            height=\"600px\"\n",
       "            src=\"vis.html\"\n",
       "            frameborder=\"0\"\n",
       "            allowfullscreen\n",
       "            \n",
       "        ></iframe>\n",
       "        "
      ],
      "text/plain": [
       "<IPython.lib.display.IFrame at 0x7ff3a2bf1670>"
      ]
     },
     "execution_count": 12,
     "metadata": {},
     "output_type": "execute_result"
    }
   ],
   "source": [
    "logged_model_uri = model_info.model_uri\n",
    "print(f\"logged_model_uri: {logged_model_uri}\")\n",
    "\n",
    "# Load model as a PyFuncModel.\n",
    "loaded_model = opt_flow.pyfunc.load_model(logged_model_uri)\n",
    "# Note: the previous line is a replacement opt_flow.pyfunc.load_model\n",
    "\n",
    "# Data generation\n",
    "node_count = 6  # Notice this is different input data\n",
    "edge_probability = 0.5\n",
    "nodes = set(range(node_count))\n",
    "edges = set((v1, v2) for v1, v2 in product(nodes, nodes) if random() <= edge_probability and v1 > v2)\n",
    "edges.update([(1, 0)])  # Forcing the edge 1, 0 to avoid empty edges\n",
    "data = {\"nodes\": nodes, \"edges\": edges}\n",
    "\n",
    "solution = loaded_model.optimize(data)\n",
    "print(f\"Optimized Coloring: {solution}\")\n",
    "\n",
    "g = build_graph(solution)\n",
    "g.show(name=\"vis.html\")"
   ]
  },
  {
   "cell_type": "markdown",
   "metadata": {},
   "source": [
    "<img src=\"https://mybinder.org/badge_logo.svg\" target=\"https://mybinder.org/v2/gh/juandados/opt-sugar/main?labpath=doc%2Fsource%2Fauto_examples%2Fplot_coloring.ipynb\">\n",
    "\n"
   ]
  }
 ],
 "metadata": {
  "kernelspec": {
   "display_name": "Python 3 (ipykernel)",
   "language": "python",
   "name": "python3"
  },
  "language_info": {
   "codemirror_mode": {
    "name": "ipython",
    "version": 3
   },
   "file_extension": ".py",
   "mimetype": "text/x-python",
   "name": "python",
   "nbconvert_exporter": "python",
   "pygments_lexer": "ipython3",
   "version": "3.9.7"
  }
 },
 "nbformat": 4,
 "nbformat_minor": 1
}
