{
  "cells": [
    {
      "cell_type": "code",
      "execution_count": null,
      "metadata": {
        "collapsed": false
      },
      "outputs": [],
      "source": [
        "%matplotlib inline"
      ]
    },
    {
      "cell_type": "markdown",
      "metadata": {},
      "source": [
        "\n# Experiment Tracking: Coloring\n\nThis example demostrates how to use opt-sugar in combination with mlflow\nfor single objective optimization experiment tracking\n"
      ]
    },
    {
      "cell_type": "code",
      "execution_count": null,
      "metadata": {
        "collapsed": false
      },
      "outputs": [],
      "source": [
        "import datetime\nfrom urllib.parse import urlparse\nfrom itertools import product\nfrom collections import defaultdict\nfrom random import random\nimport logging\n\nimport gurobipy as gp\nimport mlflow\nfrom mlflow.exceptions import MlflowException\n\nfrom opt_sugar import OptModel, ModelBuilder\nfrom opt_sugar.objective import Objective, ObjectivePart, BaseObjective\nimport opt_sugar.opt_flow as opt_flow\n\nfrom pyvis.network import Network\nimport matplotlib.pyplot as plt\nfrom matplotlib.colors import rgb2hex\nfrom numpy import linspace\n\n# When running locally\n#import sys\n#sys.path.append('~/opt/opt-sugar')\n#from src.opt_sugar import OptModel, ModelBuilder\n#from src.opt_sugar.objective import Objective, ObjectivePart, BaseObjective\n#import src.opt_sugar.opt_flow as opt_flow\n\n# TODO: reformat this example similar to\n#  https://github.com/scikit-learn/scikit-learn/blob/main/examples/calibration/plot_calibration_multiclass.py\n\n\ndef show_graph(solution):\n    cmap = plt.get_cmap(\"gist_rainbow\")\n    color_count = int(solution[\"max_color\"] + 1)\n    color_map = {node: color_label for node, color_label in product(nodes, range(color_count)) if\n                 solution[f'color[{node},{color_label}]'] == 1}\n    rgb_colors = {c: cmap(x) for c, x in enumerate(linspace(0, 1 - 1 / color_count, color_count))}\n    g = Network()\n    g.add_nodes(nodes=list(color_map.keys()),\n                color=[rgb2hex(rgb_colors[color_label]) for color_label in color_map.values()])\n    g.add_edges(edges)\n    g.set_options(\"\"\"{\"edges\": {\"color\": {\"inherit\": false}}, \"physics\":{\"maxVelocity\": 15}}\"\"\")\n    filename = \"vis.html\"\n    g.show(name=filename)\n\n\nclass ColoringModelBuilder(ModelBuilder):\n    \"\"\"This should be user implemented\"\"\"\n\n    def build_variables(self, base_model):\n        degrees = defaultdict(int)\n        for v1, v2 in self.data[\"edges\"]:\n            degrees[v1] += 1\n            degrees[v2] += 1\n        self.degree = max(degrees.items(), key=lambda x: x[1])[1]\n        color_keys = list(product(self.data[\"nodes\"], range(self.degree)))\n        color = base_model.addVars(color_keys, vtype=\"B\", name=\"color\")\n        max_color = base_model.addVar(lb=0, ub=self.degree, vtype=\"C\", name=\"max_color\")\n        self.variables = {\"color\": color, \"max_color\": max_color}\n\n    def build_constraints(self, base_model):\n        color = self.variables[\"color\"]\n        for v1, c in color:\n            # if color[v1, c] == 1 -> color[v2, c] == 0 for all v2 such that (v1, v2) or\n            # belongs to E\n            for v2 in self.data[\"nodes\"]:\n                if (v2, v1) in self.data[\"edges\"] or (v1, v2) in self.data[\"edges\"]:\n                    base_model.addConstr(\n                        color[v2, c] <= 1 - color[v1, c], name=f\"color_{c}_{v1}_{v2}\"\n                    )\n\n        for v in self.data[\"nodes\"]:\n            base_model.addConstr(\n                gp.quicksum(color[v, c] for c in range(self.degree)) == 1,\n                name=f\"every_node_has_color_{v}\",\n            )\n\n        max_color = self.variables[\"max_color\"]\n        for v, c in color:\n            base_model.addConstr(\n                c * color[v, c] <= max_color, name=f\"max_color_{v}_{c}\"\n            )\n\n    def build_objective(self, base_model):\n        max_color = self.variables[\"max_color\"]\n        objective_parts = [ObjectivePart(weight=1, expr=max_color)]\n        objective = Objective([BaseObjective(objective_parts, hierarchy=1)])\n        base_model.setObjective(objective.build()[0], gp.GRB.MINIMIZE)\n        return objective\n\n\ndef fit_callback(model):\n    fit_callback_data = {\n        \"mip_gap\": model.mip_gap,\n        \"objective_value\": model.getObjective().getValue(),\n    }\n    return fit_callback_data\n\n# 1. Generate random data\nnode_count = 5\nedge_probability = 0.5\n\nnodes = set(range(node_count))\nedges = set(\n    (v1, v2)\n    for v1, v2 in product(nodes, nodes)\n    if random() <= edge_probability and v1 > v2\n)\nedges.update([(1, 0)])  # Forcing the edge 1, 0 to avoid empty edges\ndata = {\"nodes\": nodes, \"edges\": edges}\n\n# 2. Track optimization experiment\nlogging.getLogger(\"mlflow\").setLevel(logging.CRITICAL)  # Can be set DEBUG\n\ntry:\n    experiment_name = f\"opt_exp_{datetime.datetime.now().strftime('%Y_%m_%d')}\"\n    experiment_id = mlflow.create_experiment(name=experiment_name)\nexcept MlflowException:\n    experiment_id = mlflow.get_experiment_by_name(name=experiment_name).experiment_id\n\nwith mlflow.start_run(experiment_id=experiment_id):\n    opt_model = OptModel(model_builder=ColoringModelBuilder)\n    solution = opt_model.optimize(data, fit_callback)\n    show_graph(solution)\n\n    # Note: Above is replacement for opt_model.fit(data, fit_callback) and opt_model.predict(data)\n    mlflow.log_param(\"objective_parts\", opt_model.objective)\n    mlflow.log_metric(\"gap\", opt_model.fit_callback_data[\"mip_gap\"])\n    mlflow.log_metric(\"kpi\", opt_model.fit_callback_data[\"objective_value\"])\n\n    tracking_url_type_store = urlparse(mlflow.get_tracking_uri()).scheme\n    print(f\"tracking_url_type_store: {tracking_url_type_store}\")\n\n    # Register the model\n    if tracking_url_type_store != \"file\":\n        # There are other ways to use the Model Registry, which depends on the use case,\n        # please refer to the doc for more information:\n        # https://mlflow.org/docs/latest/model-registry.html#api-workflow\n        model_info = mlflow.sklearn.log_model(\n            opt_model, \"opt_model\", registered_model_name=\"OptModel\"\n        )\n    else:\n        model_info = mlflow.sklearn.log_model(opt_model, \"opt_model\")\n\n# 3. Load the registered model and make predictions\n\nlogged_model_uri = model_info.model_uri\nprint(f\"logged_model_uri: {logged_model_uri}\")\n\n# Load model as a PyFuncModel.\nloaded_model = opt_flow.pyfunc.load_model(logged_model_uri)\n# Note: the previous line is a replacement opt_flow.pyfunc.load_model\n\n# Data generation\nnode_count = 6  # Notice this is different input data\nedge_probability = 0.5\nnodes = set(range(node_count))\nedges = set((v1, v2) for v1, v2 in product(nodes, nodes) if random() <= edge_probability and v1 > v2)\nedges.update([(1, 0)])  # Forcing the edge 1, 0 to avoid empty edges\ndata = {\"nodes\": nodes, \"edges\": edges}\n\nvars = loaded_model.optimize(data)\nprint(f\"Optimized Coloring: {vars}\")"
      ]
    }
  ],
  "metadata": {
    "kernelspec": {
      "display_name": "Python 3",
      "language": "python",
      "name": "python3"
    },
    "language_info": {
      "codemirror_mode": {
        "name": "ipython",
        "version": 3
      },
      "file_extension": ".py",
      "mimetype": "text/x-python",
      "name": "python",
      "nbconvert_exporter": "python",
      "pygments_lexer": "ipython3",
      "version": "3.8.5"
    }
  },
  "nbformat": 4,
  "nbformat_minor": 0
}